{
 "cells": [
  {
   "cell_type": "code",
   "execution_count": 29,
   "metadata": {},
   "outputs": [
    {
     "name": "stdout",
     "output_type": "stream",
     "text": [
      "Once deleted, variables cannot be recovered. Proceed (y/[n])? y\n"
     ]
    },
    {
     "name": "stderr",
     "output_type": "stream",
     "text": [
      "/Users/admin/opt/anaconda3/envs/data_env/lib/python3.7/site-packages/sklearn/utils/deprecation.py:86: FutureWarning: Function make_blobs is deprecated; Please import make_blobs directly from scikit-learn\n",
      "  warnings.warn(msg, category=FutureWarning)\n"
     ]
    },
    {
     "name": "stdout",
     "output_type": "stream",
     "text": [
      "[[ 9.96346605  4.59676542]\n",
      " [11.0329545  -0.16816717]\n",
      " [11.54155807  5.21116083]\n",
      " [ 8.69289001  1.54322016]\n",
      " [ 8.1062269   4.28695977]\n",
      " [ 8.30988863  4.80623966]\n",
      " [11.93027136  4.64866327]\n",
      " [ 9.67284681 -0.20283165]\n",
      " [ 8.34810316  5.13415623]\n",
      " [ 8.67494727  4.47573059]\n",
      " [ 9.17748385  5.09283177]\n",
      " [10.24028948  2.45544401]\n",
      " [ 8.68937095  1.48709629]\n",
      " [ 8.92229526 -0.63993225]\n",
      " [ 9.49123469  4.33224792]\n",
      " [ 9.25694192  5.13284858]\n",
      " [ 7.99815287  4.8525051 ]\n",
      " [ 8.18378052  1.29564214]\n",
      " [ 8.7337095   2.49162431]\n",
      " [ 9.32298256  5.09840649]\n",
      " [10.06393839  0.99078055]\n",
      " [ 9.50048972 -0.26430318]\n",
      " [ 8.34468785  1.63824349]\n",
      " [ 9.50169345  1.93824624]\n",
      " [ 9.15072323  5.49832246]\n",
      " [11.563957    1.3389402 ]]\n",
      "[1 0 1 0 0 1 1 0 1 1 1 1 0 0 1 1 1 0 0 1 0 0 0 0 1 0]\n",
      "[[ 8.1062269   4.28695977]\n",
      " [ 8.7337095   2.49162431]\n",
      " [11.563957    1.3389402 ]\n",
      " [ 8.67494727  4.47573059]\n",
      " [10.24028948  2.45544401]\n",
      " [ 7.99815287  4.8525051 ]]\n"
     ]
    },
    {
     "data": {
      "image/png": "[encoded data removed]",
      "text/plain": [
       "<Figure size 432x288 with 1 Axes>"
      ]
     },
     "metadata": {
      "needs_background": "light"
     },
     "output_type": "display_data"
    }
   ],
   "source": [
    "%reset\n",
    "import numpy as np\n",
    "from sklearn.svm import SVC\n",
    "import matplotlib.pyplot as plt\n",
    "from mlxtend.plotting import plot_decision_regions\n",
    "\n",
    "import mglearn\n",
    "# training data set을 가져와요\n",
    "x_data, t_data = mglearn.datasets.make_forge()\n",
    "print(x_data)\n",
    "print(t_data)\n",
    "\n",
    "# matplotlib을 이용해서 2차평면에 점을찍어요\n",
    "# t_data 가 0인경우 red점으로, tdata가 1인경우 blue로 점을 찍을거에요\n",
    "plt.scatter(x_data[t_data==0][:,0], x_data[t_data==0][:,1], color = 'r')\n",
    "plt.scatter(x_data[t_data==1][:,0], x_data[t_data==1][:,1], color = 'b')\n",
    "\n",
    "# plt.show()\n",
    "\n",
    "\n",
    "# sklearn 을 이용해서 model을 생성\n",
    "model = SVC(kernel='linear')\n",
    "# model = SVC(kernel='poly')\n",
    "# model = SVC(kernel='rbf')\n",
    "\n",
    "\n",
    "model.fit(x_data, t_data)\n",
    "\n",
    "# SVM support vector를 구하고 이를 이용해서 Decision Boundaries를 구해요!\n",
    "# 학습이 끝나면 SVM에 의해서 구해진 support vector의 index를 알아낼 수 있어요!\n",
    "print(model.support_vectors_)\n",
    "plot_decision_regions(X=x_data, \n",
    "                      y=t_data, \n",
    "                      clf = model,\n",
    "                     legend=2)\n",
    "plt.show()\n"
   ]
  }
 ],
 "metadata": {
  "kernelspec": {
   "display_name": "Python [conda env:data_env] *",
   "language": "python",
   "name": "conda-env-data_env-py"
  },
  "language_info": {
   "codemirror_mode": {
    "name": "ipython",
    "version": 3
   },
   "file_extension": ".py",
   "mimetype": "text/x-python",
   "name": "python",
   "nbconvert_exporter": "python",
   "pygments_lexer": "ipython3",
   "version": "3.7.7"
  }
 },
 "nbformat": 4,
 "nbformat_minor": 4
}
