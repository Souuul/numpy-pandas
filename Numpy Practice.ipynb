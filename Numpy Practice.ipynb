{
 "cells": [
  {
   "cell_type": "code",
   "execution_count": 1,
   "metadata": {},
   "outputs": [
    {
     "name": "stdout",
     "output_type": "stream",
     "text": [
      "39.6\n",
      "['2018-08-01']\n"
     ]
    }
   ],
   "source": [
    "# 1. 기상 관측 이래, 서울의 최고 기온이 가장 높았던 날은 언제였고, 몇도인가요?\n",
    "# 2. 역사적으로 일교차가 가장 큰 날짜는 몇년 몇월 몇일 인가요?\n",
    "# 3. 1년 중 평균적으로 일교차가 가장 큰 날짜는 몇월 몇일 인가요?\n",
    "# 4. 가장 덥다고 알려진 대구보다 서울이 더 더운날이 가장 많은 연도는 언제인가요?\n",
    "\n",
    "import numpy as np\n",
    "\n",
    "# arr = np.loadtxt('./data/seoul.csv', delimiter = ',', skiprows = 1, dtype=np.object, encoding='utf-8')\n",
    "arr_seoul = np.loadtxt(\"./data/seoul.csv\", dtype=np.object, delimiter=',', skiprows = 1, encoding='CP949')\n",
    "arr_daegu = np.loadtxt(\"./data/seoul.csv\", dtype=np.object, delimiter=',', skiprows = 1, encoding='CP949')\n",
    "high_temp_arr = arr_seoul.T[4]\n",
    "high_temp = (high_temp_arr[high_temp_arr!='']).astype(np.float64).max()\n",
    "print(high_temp)\n",
    "print(arr_seoul.T[0][high_temp_arr == str(high_temp)])\n",
    "\n",
    "\n"
   ]
  },
  {
   "cell_type": "code",
   "execution_count": 285,
   "metadata": {},
   "outputs": [
    {
     "name": "stdout",
     "output_type": "stream",
     "text": [
      "21.8\n",
      "['1942-04-19']\n"
     ]
    }
   ],
   "source": [
    "# 2. 역사적으로 일교차가 가장 큰 날짜는 몇년 몇월 몇일 인가요?\n",
    "\n",
    "\n",
    "import numpy as np\n",
    "\n",
    "# arr = np.loadtxt('./data/seoul.csv', delimiter = ',', skiprows = 1, dtype=np.object, encoding='utf-8')\n",
    "arr_seoul = np.loadtxt(\"./data/seoul.csv\", dtype=np.object, delimiter=',', skiprows = 1, encoding='CP949')\n",
    "arr_daegu = np.loadtxt(\"./data/seoul.csv\", dtype=np.object, delimiter=',', skiprows = 1, encoding='CP949')\n",
    "morning_temp_arr = arr_seoul.T[3]\n",
    "night_temp_arr = arr_seoul.T[4]\n",
    "morning_temp = (morning_temp_arr[night_temp_arr!='']).astype(np.float64)\n",
    "night_temp = (night_temp_arr[night_temp_arr!='']).astype(np.float64)\n",
    "sub_tmp_arr = night_temp - morning_temp\n",
    "sub_tmp = np.max(sub_tmp_arr)\n",
    "arr_index = np.where(sub_tmp_arr == sub_tmp)\n",
    "print(sub_tmp)\n",
    "print(arr_seoul.T[0][arr_index])\n"
   ]
  },
  {
   "cell_type": "code",
   "execution_count": 306,
   "metadata": {},
   "outputs": [
    {
     "name": "stdout",
     "output_type": "stream",
     "text": [
      "['1907-10' '1907-10' '1907-10' ... '2020-09' '2020-09' '2020-09']\n"
     ]
    }
   ],
   "source": [
    "# 3. 1년 중 평균적으로 일교차가 가장 큰 날짜는 몇월 몇일 인가요?\n",
    "import numpy as np\n",
    "\n",
    "arr_seoul = np.loadtxt(\"./data/seoul.csv\", dtype=np.object, delimiter=',', skiprows = 1, encoding='CP949')\n",
    "\n",
    "date_arr = np.array(arr_seoul.T[0], dtype = 'datetime64[M]')\n",
    "print(date_arr)\n",
    "\n",
    "# print(np.array(arr_seoul).T[np.array(arr_seoul).T[4] - np.array(arr_seoul).T[3]])\n",
    "\n"
   ]
  },
  {
   "cell_type": "code",
   "execution_count": 284,
   "metadata": {},
   "outputs": [
    {
     "name": "stdout",
     "output_type": "stream",
     "text": [
      "['1907' '1907' '1907' ... '2020' '2020' '2020']\n"
     ]
    }
   ],
   "source": [
    "# 4. 가장 덥다고 알려진 대구보다 서울이 더 더운날이 가장 많은 연도는 언제인가요?\n",
    "arr_seoul = np.loadtxt(\"./data/seoul.csv\", dtype=np.object, delimiter=',', skiprows = 1, encoding='CP949')\n",
    "arr_daegu = np.loadtxt(\"./data/daegu.csv\", dtype=np.object, delimiter=',', skiprows = 1, encoding='CP949')\n",
    "\n",
    "\n",
    "\n",
    "night_temp_seoul = (arr_seoul.T[4][arr_seoul.T[4]!='']).astype(np.float64)\n",
    "night_temp_daegu = (arr_daegu.T[4][arr_daegu.T[4]!='']).astype(np.float64)\n",
    "date_daegu = arr_daegu.T[0][arr_daegu.T[4]!='']\n",
    "\n",
    "count = night_temp_daegu.size - night_temp_seoul.size\n",
    "\n",
    "night_temp_seoul = np.concatenate((night_temp_seoul, [-999]*count))\n",
    "\n",
    "# date_arr = np.array(date_daegu[night_temp_seoul - night_temp_daegu >0])\n",
    "# print(date_arr)\n",
    "\n",
    "date_arr = np.array(arr_seoul.T[0], dtype = 'datetime64[Y]')\n",
    "print(date_arr)\n"
   ]
  }
 ],
 "metadata": {
  "kernelspec": {
   "display_name": "Python [conda env:data_env] *",
   "language": "python",
   "name": "conda-env-data_env-py"
  },
  "language_info": {
   "codemirror_mode": {
    "name": "ipython",
    "version": 3
   },
   "file_extension": ".py",
   "mimetype": "text/x-python",
   "name": "python",
   "nbconvert_exporter": "python",
   "pygments_lexer": "ipython3",
   "version": "3.7.7"
  }
 },
 "nbformat": 4,
 "nbformat_minor": 4
}
