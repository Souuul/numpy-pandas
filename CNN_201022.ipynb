{
 "cells": [
  {
   "cell_type": "code",
   "execution_count": 31,
   "metadata": {},
   "outputs": [
    {
     "name": "stdout",
     "output_type": "stream",
     "text": [
      "(1, 3, 3, 1)\n",
      "(2, 2, 1, 5)\n",
      "(1, 2, 2, 5)\n"
     ]
    }
   ],
   "source": [
    "import tensorflow as tf\n",
    "import numpy as np\n",
    "\n",
    "# 입력이미지 (4차원으로 표현)\n",
    "# (이미지 개수, width, height, color)\n",
    "# (1,3,3,1) => (이미지 1개, 가로 3픽셀, 세로 3픽셀, channel 흑백)\n",
    "image = np.array(np.random.randint(1,9,1*3*3*1), dtype=np.float32).reshape(1,3,3,1)\n",
    "print(image.shape)\n",
    "\n",
    "# weight\n",
    "# filter를 적용할건데\n",
    "# 필터의 가로길이, 세로길이, 필터의 channel, 필터의 개수\n",
    "# (2,2,1,5)\n",
    "weight = np.array([[[[1,2,3,4,5]],[[1,2,3,4,5]]],[[[1,2,3,4,5]],[[1,2,3,4,5]]]], dtype=np.float32)\n",
    "print(weight.shape)\n",
    "\n",
    "# stride : 1\n",
    "# Padding : VALID ( padding을 하지 않을꺼에요 )\n",
    "result = tf.nn.conv2d(image, weight, strides=[1,1,1,1], padding='VALID')\n",
    "sess = tf.Session()\n",
    "conv2d = sess.run(result)\n",
    "print(conv2d.shape)"
   ]
  }
 ],
 "metadata": {
  "kernelspec": {
   "display_name": "Python [conda env:data_env] *",
   "language": "python",
   "name": "conda-env-data_env-py"
  },
  "language_info": {
   "codemirror_mode": {
    "name": "ipython",
    "version": 3
   },
   "file_extension": ".py",
   "mimetype": "text/x-python",
   "name": "python",
   "nbconvert_exporter": "python",
   "pygments_lexer": "ipython3",
   "version": "3.7.7"
  }
 },
 "nbformat": 4,
 "nbformat_minor": 4
}
