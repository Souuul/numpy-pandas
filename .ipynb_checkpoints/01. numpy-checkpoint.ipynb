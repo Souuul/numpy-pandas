{
 "cells": [
  {
   "cell_type": "code",
   "execution_count": null,
   "metadata": {},
   "outputs": [],
   "source": [
    "# cell 이라고  불러요 !!\n",
    "# a key : 현재 cell 위쪽에 새로운 cell을 생성해요!\n",
    "# b key : 현재 cell 아래쪽에 새로운 cell을 생성해요!\n",
    "# d d key : 현재 cell을 삭제\n",
    "# control + enter : 현재 cell을 실행!"
   ]
  },
  {
   "cell_type": "code",
   "execution_count": 13,
   "metadata": {},
   "outputs": [
    {
     "name": "stdout",
     "output_type": "stream",
     "text": [
      "[1, 2, 3, 4, 5]\n",
      "<class 'list'>\n",
      "[1 2 3 4 5]\n",
      "<class 'numpy.ndarray'>\n",
      "int64\n",
      "1\n",
      "<class 'numpy.int64'>\n",
      "['100' '3.14' 'True' 'Hello']\n"
     ]
    }
   ],
   "source": [
    "import numpy as np\n",
    "# python의 list 부터 살펴보아요!\n",
    "a = [1,2,3,4,5] # python의 list\n",
    "print(a) # [1,2,3,4,5] > list literal\n",
    "print(type(a))\n",
    "\n",
    "# Numpy의 ndarray라고 불리는 놈을 만들어보아요!\n",
    "\n",
    "arr = np.array([1,2,3,4,5])\n",
    "# arr = np.array(파이썬의 list)\n",
    "print(arr) #[1 2 3 4 5]\n",
    "print(type(arr)) # <class 'numpy.ndarray'>\n",
    "print(arr.dtype) # int64(int : 정수, 64:64bit)\n",
    "print(arr[0]) # 1 > python 에서는 'int'\n",
    "print(type(arr[0])) # <class 'numpy.int64'>\n",
    "\n",
    "arr = np.array([100,3.14,True,'Hello']) # Numpy 안에는 같은 데이터 타입이 들어가야합니다.\n",
    "print(arr) # ['100' '3.14' 'True' 'Hello'] 가능한 데이터 타입을 일치시켜서 출력"
   ]
  },
  {
   "cell_type": "code",
   "execution_count": 19,
   "metadata": {},
   "outputs": [
    {
     "name": "stdout",
     "output_type": "stream",
     "text": [
      "[[1 2 3]\n",
      " [4 5 6]]\n",
      "5\n"
     ]
    }
   ],
   "source": [
    "# 다차원 ndarray를 만들어 보아요!\n",
    "# Python의 list는 중첩리스트만 존재해요!\n",
    "\n",
    "a = [[1,2,3],\n",
    "     [4,5,6]] # python 에서는 2차원 리스트라고 부르지는 않아요 !\n",
    "\n",
    "arr = np.array(a)\n",
    "print(arr)\n",
    "print(arr[1][1])"
   ]
  },
  {
   "cell_type": "code",
   "execution_count": 20,
   "metadata": {},
   "outputs": [
    {
     "name": "stdout",
     "output_type": "stream",
     "text": [
      "[[1. 2. 3.]\n",
      " [4. 5. 6.]]\n"
     ]
    }
   ],
   "source": [
    "a = [[1,2,3],\n",
    "     [4,5,6]] # python 에서는 2차원 리스트라고 부르지는 않아요 !\n",
    "arr = np.array(a, dtype =np.float64)# 지정하지 numpy가 자동으로 판단해서 지정\n",
    "print(arr)"
   ]
  },
  {
   "cell_type": "code",
   "execution_count": 30,
   "metadata": {},
   "outputs": [
    {
     "name": "stdout",
     "output_type": "stream",
     "text": [
      "[1. 2. 3. 4.]\n",
      "1\n",
      "(4,)\n",
      "[[ 1.  2.  3.]\n",
      " [ 4.  5.  6.]\n",
      " [ 7.  8.  9.]\n",
      " [10. 11. 12.]]\n",
      "2\n",
      "(4, 3)\n",
      "[[[1. 2. 3.]\n",
      "  [4. 5. 6.]]\n",
      "\n",
      " [[1. 2. 3.]\n",
      "  [4. 5. 6.]]]\n",
      "3\n",
      "(2, 2, 3)\n"
     ]
    }
   ],
   "source": [
    "# ndarray의 차원 관련 속성을 알아보아요!!\n",
    "\n",
    "a = [1, 2, 3, 4]\n",
    "arr = np.array(a, dtype=np.float64)\n",
    "print(arr) #[1. 2. 3. 4.]\n",
    "print(arr.ndim) #ndim > 차원의 개수 : 1\n",
    "print(arr.shape) # 차원의 개수와 각차원의 요소를 tuple로 표현\n",
    "                 # (4,)\n",
    "\n",
    "    \n",
    "a = [[1, 2, 3],\n",
    "     [4, 5, 6],\n",
    "     [7, 8 ,9],\n",
    "     [10, 11, 12]]\n",
    "arr = np.array(a, dtype=np.float64)\n",
    "print(arr)\n",
    "print(arr.ndim) #ndim > 차원의 개수 : 2\n",
    "print(arr.shape) # 차원의 개수와 각차원의 요소를 tuple로 표현\n",
    "                 # (4, 3)\n",
    "\n",
    "a = [[[1, 2, 3],\n",
    "     [4, 5, 6]],\n",
    "     [[1, 2, 3],\n",
    "     [4, 5, 6]]]\n",
    "arr = np.array(a, dtype=np.float64)\n",
    "print(arr)\n",
    "print(arr.ndim) #ndim > 차원의 개수 : 3\n",
    "print(arr.shape) # 차원의 개수와 각차원의 요소를 tuple로 표현\n",
    "                 # (2, 2, 3)"
   ]
  },
  {
   "cell_type": "code",
   "execution_count": 41,
   "metadata": {},
   "outputs": [
    {
     "name": "stdout",
     "output_type": "stream",
     "text": [
      "[[ 1.  2.  3.]\n",
      " [ 4.  5.  6.]\n",
      " [ 7.  8.  9.]\n",
      " [10. 11. 12.]]\n",
      "12\n",
      "4\n",
      "(4, 3)\n",
      "[[ 1.  2.  3.  4.  5.  6.]\n",
      " [ 7.  8.  9. 10. 11. 12.]]\n",
      "[[[ 1.  2.]\n",
      "  [ 3.  4.]]\n",
      "\n",
      " [[ 5.  6.]\n",
      "  [ 7.  8.]]\n",
      "\n",
      " [[ 9. 10.]\n",
      "  [11. 12.]]]\n"
     ]
    },
    {
     "ename": "ValueError",
     "evalue": "cannot reshape array of size 12 into shape (3,2,3)",
     "output_type": "error",
     "traceback": [
      "\u001b[0;31m---------------------------------------------------------------------------\u001b[0m",
      "\u001b[0;31mValueError\u001b[0m                                Traceback (most recent call last)",
      "\u001b[0;32m<ipython-input-41-11d631f7d9d2>\u001b[0m in \u001b[0;36m<module>\u001b[0;34m\u001b[0m\n\u001b[1;32m     14\u001b[0m \u001b[0mprint\u001b[0m\u001b[0;34m(\u001b[0m\u001b[0marr\u001b[0m\u001b[0;34m)\u001b[0m\u001b[0;34m\u001b[0m\u001b[0;34m\u001b[0m\u001b[0m\n\u001b[1;32m     15\u001b[0m \u001b[0;34m\u001b[0m\u001b[0m\n\u001b[0;32m---> 16\u001b[0;31m \u001b[0marr\u001b[0m\u001b[0;34m.\u001b[0m\u001b[0mshape\u001b[0m \u001b[0;34m=\u001b[0m \u001b[0;34m(\u001b[0m\u001b[0;36m3\u001b[0m\u001b[0;34m,\u001b[0m \u001b[0;36m2\u001b[0m\u001b[0;34m,\u001b[0m \u001b[0;36m3\u001b[0m\u001b[0;34m)\u001b[0m\u001b[0;34m\u001b[0m\u001b[0;34m\u001b[0m\u001b[0m\n\u001b[0m\u001b[1;32m     17\u001b[0m \u001b[0mprint\u001b[0m\u001b[0;34m(\u001b[0m\u001b[0marr\u001b[0m\u001b[0;34m)\u001b[0m\u001b[0;34m\u001b[0m\u001b[0;34m\u001b[0m\u001b[0m\n",
      "\u001b[0;31mValueError\u001b[0m: cannot reshape array of size 12 into shape (3,2,3)"
     ]
    }
   ],
   "source": [
    "# numpy array(ndarray)의 크기를 알아보아요!\n",
    "\n",
    "a = [[1,2,3], [4,5,6], [7,8,9], [10,11,12]] # 4 X 3\n",
    "arr = np.array(a, dtype = np.float64)\n",
    "print(arr)\n",
    "print(arr.size) # 12 // 현재 np가 가지고 있는 모든요소의 개수\n",
    "print(len(arr)) #4 // 첫번째 차원의 요소 개수를 리턴 // 행의 개수를 리턴합니다.\n",
    "print(arr.shape)\n",
    "\n",
    "arr.shape = (2, 6)\n",
    "print(arr)\n",
    "\n",
    "arr.shape = (3, 2, 2)\n",
    "print(arr)\n",
    "\n",
    "arr.shape = (3, 2, 3)\n",
    "print(arr)\n",
    "\n",
    "# numpy array는 shape을 내가 원하는 식으로 변경할 수 있어요 !!\n",
    "# shape 속성을 이용해서 변경하는 예제를 진행!\n",
    "# shape 속성을 이용해서 변경하는 방식은 잘 사용하지 않아요!!\n",
    "# shape을 변경하기 위해서는.. reshape() 함수를 이용!!\n"
   ]
  },
  {
   "cell_type": "code",
   "execution_count": 45,
   "metadata": {},
   "outputs": [
    {
     "name": "stdout",
     "output_type": "stream",
     "text": [
      "[1.5 2.3 8.3 9.8 7.7]\n",
      "[1 2 8 9 7]\n",
      "int32\n"
     ]
    }
   ],
   "source": [
    "# ndarray를 생성할 때 dtype을 지정해서 만들어요!\n",
    "# ndarray의 데이터 타입을 변경하려면 어떻게 해야 하나요??\n",
    "\n",
    "import numpy as np\n",
    "arr = np.array([1.5, 2.3, 8.3, 9.8, 7.7], dtype = np.float64)\n",
    "print(arr) # [1.5 2.3 8.3 9.8 7.7]\n",
    " \n",
    "result = arr.astype(np.int32)\n",
    "print(result) # [1 2 8 9 7] // 정수형태로 변환되며 버림처리됩니다. \n",
    "print(result.dtype)"
   ]
  },
  {
   "cell_type": "code",
   "execution_count": 60,
   "metadata": {},
   "outputs": [
    {
     "name": "stdout",
     "output_type": "stream",
     "text": [
      "[[0. 0. 0. 0.]\n",
      " [0. 0. 0. 0.]\n",
      " [0. 0. 0. 0.]]\n",
      "[[1. 1. 1. 1.]\n",
      " [1. 1. 1. 1.]\n",
      " [1. 1. 1. 1.]]\n",
      "[[7. 7. 7. 7. 7.]\n",
      " [7. 7. 7. 7. 7.]\n",
      " [7. 7. 7. 7. 7.]]\n",
      "[[ 6.17779239e-31 -1.23555848e-30  3.08889620e-31]\n",
      " [-1.23555848e-30  2.68733969e-30 -8.34001973e-31]\n",
      " [ 3.08889620e-31 -8.34001973e-31  4.78778910e-31]]\n",
      "[[1 2 3]\n",
      " [4 5 6]]\n",
      "[[0 0 0]\n",
      " [0 0 0]]\n"
     ]
    }
   ],
   "source": [
    "# ndarray를 생성 할때 python의 list를 이용해서 만들었어요!!\n",
    "# ndarray를 만드는 여러가지 방법이 존재 !!\n",
    "import numpy as np\n",
    "arr = np.zeros((3,4))\n",
    "print(arr)\n",
    "\n",
    "arr = np.ones((3,4))\n",
    "print(arr)\n",
    "\n",
    "arr = np.full((3,5), 7, dtype=np.float64)\n",
    "print(arr)\n",
    "\n",
    "arr = np.empty((3,3)) # 3 X 3 ndarray 를 생성하는데 ..초기값을 주지않아요\n",
    "                      # 내가 원하는 shape의 공간만 설정 // 초기화 하지않아 만드는 속도가 빨라서 사용\n",
    "print(arr)\n",
    "\n",
    "###########\n",
    "\n",
    "arr = np.array([(1,2,3), (4,5,6)])\n",
    "print(arr)\n",
    "\n",
    "# ones, zeros, full, empty 이런 함수들과 상당히 유사한 함수를 이용\n",
    "\n",
    "result = np.zeros_like(arr)\n",
    "print(result)"
   ]
  },
  {
   "cell_type": "code",
   "execution_count": 62,
   "metadata": {},
   "outputs": [
    {
     "name": "stdout",
     "output_type": "stream",
     "text": [
      "range(1, 10)\n",
      "[1 2 3 4 5 6 7 8 9]\n"
     ]
    }
   ],
   "source": [
    "# ndarray를 만드는 다른 방법 - arange\n",
    "\n",
    "# python의 range와 상당히 유사\n",
    "# 주어진 범위 내에서 지정한 간격으로 연속적인 원소를 가진 ndarray를 생성\n",
    "a = range(1,10,1)\n",
    "print(a)\n",
    "\n",
    "arr = np.arange(1,10,1)\n",
    "print(arr)"
   ]
  },
  {
   "cell_type": "code",
   "execution_count": 73,
   "metadata": {},
   "outputs": [
    {
     "name": "stdout",
     "output_type": "stream",
     "text": [
      "[ 0.  1.  2.  3.  4.  5.  6.  7.  8.  9. 10.]\n",
      "[ 0.          0.83333333  1.66666667  2.5         3.33333333  4.16666667\n",
      "  5.          5.83333333  6.66666667  7.5         8.33333333  9.16666667\n",
      " 10.        ]\n",
      "[  1.   5.   9.  13.  17.  21.  25.  29.  33.  37.  41.  45.  49.  53.\n",
      "  57.  61.  65.  69.  73.  77.  81.  85.  89.  93.  97. 101. 105. 109.\n",
      " 113. 117. 121.]\n"
     ]
    },
    {
     "data": {
      "image/png": "[encoded data removed]",
      "text/plain": [
       "<Figure size 432x288 with 1 Axes>"
      ]
     },
     "metadata": {
      "needs_background": "light"
     },
     "output_type": "display_data"
    }
   ],
   "source": [
    "# ndarray를 만드는 다른 방법 - linspace\n",
    "# linspace 기능을 확인하기 위해서 그래프로 데이터를 그려볼꺼에요!!\n",
    "# matplotlib module, seaborn 라는 모듈을 이용해서 그래프를 그릴 수 있습니다.\n",
    "import numpy as np\n",
    "import matplotlib.pyplot as plt\n",
    "'''\n",
    "np.linspace(start, stop, num) \n",
    "start 부터 시작해서 stop의 범위에서 num개의 숫자를 \n",
    "균일한 간격으로 데이터를 생성해서 ndarray를 만드는 함수\n",
    "'''\n",
    "\n",
    "arr = np.linspace(0,10,11)\n",
    "print(arr) #[ 0.  1.  2.  3.  4.  5.  6.  7.  8.  9. 10.]\n",
    "\n",
    "\n",
    "arr = np.linspace(0,10,13)\n",
    "print(arr)\n",
    "'''\n",
    "[ 0.          0.83333333  1.66666667  2.5         3.33333333  4.16666667\n",
    "  5.          5.83333333  6.66666667  7.5         8.33333333  9.16666667\n",
    " 10.        ]\n",
    "'''\n",
    "\n",
    "\n",
    "arr = np.linspace(1,121,31) #원소간의 간격은 (stop - start) / (num -1)\n",
    "print(arr)\n",
    "\n",
    "'''\n",
    "[  1.   5.   9.  13.  17.  21.  25.  29.  33.  37.  41.  45.  49.  53.\n",
    "  57.  61.  65.  69.  73.  77.  81.  85.  89.  93.  97. 101. 105. 109.\n",
    " 113. 117. 121.]\n",
    "'''\n",
    "\n",
    "plt.plot(arr, \"*\")\n",
    "plt.show()\n"
   ]
  },
  {
   "cell_type": "code",
   "execution_count": 270,
   "metadata": {},
   "outputs": [
    {
     "name": "stdout",
     "output_type": "stream",
     "text": [
      "[51.33248697 53.89868029 52.60085602 ... 56.76089084 53.15866578\n",
      " 49.63051447]\n"
     ]
    },
    {
     "data": {
      "image/png": "[encoded data removed]",
      "text/plain": [
       "<Figure size 432x288 with 1 Axes>"
      ]
     },
     "metadata": {
      "needs_background": "light"
     },
     "output_type": "display_data"
    }
   ],
   "source": [
    "import numpy as np\n",
    "import matplotlib.pyplot as plt\n",
    "# # ndarray를 생성할 때 랜덤값 기반으로 생성할 수 있어요!!\n",
    "# # 총 다섯가지 방법으로 ndarray를 생성할 수 있어요!!\n",
    "\n",
    "# # 1. np.random.normal() : 정규분포 확률 밀도함수에서 실수 표본을 추출해서 ndarray 생성\n",
    "# #                         평균, 표준편차\n",
    "\n",
    "# mean = 50\n",
    "# std = 2\n",
    "# arr = np.random.normal(mean, std, (10000,)) # 10000개의 데이터 추출\n",
    "# print(arr)\n",
    "# plt.plot(arr)\n",
    "# print(plt.plot(arr))\n",
    "\n",
    "# # 히스토그램\n",
    "plt.hist(arr, bins = 100) # 히스토그램의 x축의 간격을 100개로 쪼개서 만듦\n",
    "plt.show()\n",
    "\n",
    "# # 2. np.random.rand() : 실수를 추출하는데 [0,1) 범위에서 추출하고 균등분포로 추출\n",
    "# arr = np.random.rand(100000)\n",
    "# print(arr)\n",
    "# plt.hist(arr, bins=100)\n",
    "# plt.show()\n",
    "\n",
    "# # 3. np.random.randn(d0,d1,d2, ...) : 실수추출 , 표준정규분포에서 난수를 추출 평균0, 표준편차 1\n",
    "\n",
    "# arr = np.random.rand(100000)\n",
    "# print(arr)\n",
    "# plt.hist(arr, bins=100)\n",
    "# plt.show\n",
    "\n",
    "# 4. np.random.randint(low,high, shape) : 균등분포 확률밀도함수에서 난수를 추출하는데 정수값을 난수로 추출\n",
    "# arr = np.random.randint(-100,100,(100000, ))\n",
    "# print(arr)\n",
    "# plt.hist(arr, bins =100)\n",
    "# plt.show()\n",
    "\n",
    "#5. np.random.random(shape) : [0,1) 균등분포에서 실수 난수를 추출!\n",
    "# arr = np.random.random((100000, ))\n",
    "# print(arr)\n",
    "# plt.hist(arr, bins=100)\n",
    "# plt.show()"
   ]
  },
  {
   "cell_type": "code",
   "execution_count": 185,
   "metadata": {},
   "outputs": [
    {
     "name": "stdout",
     "output_type": "stream",
     "text": [
      "[1 1 0]\n",
      "[4 0 1]\n",
      "[0 2 0 3 2 0 3 0 2 3]\n"
     ]
    }
   ],
   "source": [
    "# # Numpy 가 제공하는 랜덤 관련 함수\n",
    "# # 1. 난수의 재현\n",
    "# # 랜덤 값도 실제로는 특정 알고리즘의 결과물.. 초기에 시작값을 설정해주면\n",
    "# # 항상 같은 랜덤값이 도출 !!\n",
    "# np.random.seed(10)\n",
    "# arr = np.random.randint(0, 100, (10,))\n",
    "# print(arr) # [60 72  4  8 98 88 69 54 83 30]\n",
    "\n",
    "# 2. ndarray의 순서를 램덤하게 바꿀려면 어떻게 해야하나요??\n",
    "# arr = np.arange(10)\n",
    "# print(arr)\n",
    "# np.random.shuffle(arr) # ndarray 자체가 변형되요!\n",
    "# print(arr)\n",
    "\n",
    "# 3. ndarray 안에서 일부 부작위로 선택하는 기능. sampling기능을 수행하려면\n",
    "\n",
    "# np.random.choice(arr, size, replace, p)\n",
    "# arr : numpy array가 나오거나 혹은 정수가 나올 수 있어요! 만약 정수면\n",
    "#       정수만 쓰면 : arange(정수) 가 실행\n",
    "# size : 정수값. 샘플의 숫자\n",
    "# replace : Boolean (True, False)\n",
    "#           True : 한번 선택한 데이터를 다시 샘플링 할 수 있어요!\n",
    "# p(확률) : ndarray. 각 데이터가 샘플링 될 확률을 가지고 있는 ndarray\n",
    "\n",
    "arr = np.random.choice(5,3,replace = True )\n",
    "print(arr) #[1 1 3] 값 중복 가능\n",
    "\n",
    "arr = np.random.choice(5,3,replace = False )\n",
    "print(arr) #[0 4 1] 값 중복 불가능\n",
    "\n",
    "\n",
    "arr = np.random.choice(5,10,replace = True,p = [0.2, 0, 0.3, 0.4, 0.1]  )\n",
    "print(arr) #[0 4 1] 값 중복 불가능"
   ]
  },
  {
   "cell_type": "code",
   "execution_count": 195,
   "metadata": {},
   "outputs": [
    {
     "name": "stdout",
     "output_type": "stream",
     "text": [
      "[100   1   2   3   4   5   6   7   8   9  10  11]\n",
      "[[ 0  1  2  3  4  5]\n",
      " [ 6  7  8  9 10 11]]\n"
     ]
    }
   ],
   "source": [
    "# ndarray는 shape을 가지고 있어요!\n",
    "# shape 속성의 값을 바꾸어서 ndarray의 형태를 변경하는 것은 그다지 좋지 않아요!\n",
    "# reshape() 항수를 이용해서 처리합니다.\n",
    "\n",
    "# import numpy as np\n",
    "# arr = np.arange(0,12,1)\n",
    "# arr1 = arr.reshape(4,3) # 새로운 ndarray를 만드는게 아니라 view를 생성.\n",
    "# print (arr)\n",
    "# print (arr1)\n",
    "\n",
    "# arr[0] =100\n",
    "# print(arr) \n",
    "# print(arr1) #데이터 공유\n",
    "\n",
    "# arr = np.arange(0,12,1)\n",
    "# arr1 = arr.reshape(2,3,-1)\n",
    "# print(arr1)\n",
    "\n",
    "# arr = np.arange(0,12,1)\n",
    "# arr1 = arr.reshape(2,6).copy() # 데이터 공유하지않고 새로운 ndarray를 제작하려면 ?\n",
    "# arr[0] =100\n",
    "# print(arr)\n",
    "# print(arr1)"
   ]
  },
  {
   "cell_type": "code",
   "execution_count": 202,
   "metadata": {},
   "outputs": [
    {
     "name": "stdout",
     "output_type": "stream",
     "text": [
      "[[ 0  1  2  3  4  5  6  7  8  9 10 11 12 13 14 15 16 17 18 19]\n",
      " [20 21 22 23 24 25 26 27 28 29 30 31 32 33 34 35 36 37 38 39]\n",
      " [40 41 42 43 44 45 46 47 48 49 50 51 52 53 54 55 56 57 58 59]\n",
      " [60 61 62 63 64 65 66 67 68 69 70 71 72 73 74 75 76 77 78 79]\n",
      " [80 81 82 83 84 85 86 87 88 89 90 91 92 93 94 95 96 97 98 99]]\n",
      "[ 0  1  2  3  4  5  6  7  8  9 10 11 12 13 14 15 16 17 18 19 20 21 22 23\n",
      " 24 25 26 27 28 29 30 31 32 33 34 35 36 37 38 39 40 41 42 43 44 45 46 47\n",
      " 48 49 50 51 52 53 54 55 56 57 58 59 60 61 62 63 64 65 66 67 68 69 70 71\n",
      " 72 73 74 75 76 77 78 79 80 81 82 83 84 85 86 87 88 89 90 91 92 93 94 95\n",
      " 96 97 98 99]\n"
     ]
    }
   ],
   "source": [
    "# ndarray의 shape 조절 함수\n",
    "# reshape()을 이용해서 shape을 조절할 수 있어요!\n",
    "#ravel() : ndarray 의 모든 요소가 포함된 1차원 vector를 리턴\n",
    "arr = np.arange(0,100,1).reshape(5,-1).copy()\n",
    "print(arr)\n",
    "\n",
    "arr1 = arr.ravel()\n",
    "print(arr1)"
   ]
  },
  {
   "cell_type": "code",
   "execution_count": 13,
   "metadata": {},
   "outputs": [
    {
     "name": "stdout",
     "output_type": "stream",
     "text": [
      "[[9 4 0 1]\n",
      " [9 0 1 8]\n",
      " [9 0 8 6]]\n",
      "None\n",
      "[[9 4 0 1 9 0]\n",
      " [1 8 9 0 8 6]]\n",
      "[[9 4 0 1 9]\n",
      " [0 1 8 9 0]\n",
      " [8 6 0 0 0]]\n",
      "[[9 4]\n",
      " [0 1]]\n"
     ]
    }
   ],
   "source": [
    "# 9월 7일 \n",
    "# Numpy 2번쨰 시간\n",
    "# ndarray 의 shape 조절 함수에 대해서 알아보아요!!\n",
    "# reshape(): 원하는 형태(shape)으로 ndarray의 shape을 조절\n",
    "# revel() : 1차원 vector(1차원 ndarray)로 shape을 변형 view\n",
    "# resize() : reshape() 과 상당히 유사.\n",
    "\n",
    "import numpy as np\n",
    "\n",
    "#정수형태의 난수를 이용해서 (3,4) shape을 가지는 ndarray를 생성할 꺼에요!\n",
    "np.random.seed(10)\n",
    "arr = np.random.randint(0,10,(3,4))\n",
    "print(arr)\n",
    "\n",
    "result = arr.resize(2,6) # 원본을 변경\n",
    "print(result) # None\n",
    "print(arr)\n",
    "\n",
    "arr.resize(3,5)\n",
    " # reshape은 안됨 error 하지만 resize는 나머지 요소를 0으로 맞춤\n",
    "print(arr)\n",
    "\n",
    "arr.resize(2,2)\n",
    " # 요소수가 줄면 나머지데이터를 버립니다.\n",
    "print(arr)"
   ]
  },
  {
   "cell_type": "code",
   "execution_count": 31,
   "metadata": {
    "scrolled": true
   },
   "outputs": [
    {
     "name": "stdout",
     "output_type": "stream",
     "text": [
      "인덱스 : 0, 데이터 : [1 2 3 4]\n",
      "인덱스 : 1, 데이터 : [5 6 7 8]\n",
      "인덱스 : 2, 데이터 : [ 9 10 11 12]\n",
      "인덱스 : 3, 데이터 : [13 14 15 16]\n",
      "13\n",
      "[11 12 13]\n",
      "[10 11 12 13 14 15 16 17 18]\n",
      "[11 13 15 17]\n",
      "[[ 1  2  3  4]\n",
      " [ 5  6  7  8]\n",
      " [ 9 10 11 12]\n",
      " [13 14 15 16]]\n",
      "7\n",
      "7\n",
      "[ 9 10 11 12]\n",
      "[[ 5  6  7  8]\n",
      " [ 9 10 11 12]]\n",
      "[[ 5  6]\n",
      " [ 9 10]]\n"
     ]
    }
   ],
   "source": [
    "# 여기까지가 numpy array(ndarray)의 기본적인 특징입니다!\n",
    "# indexing & slicing\n",
    "# python\n",
    "import numpy as np\n",
    "# arr = np.arange(10,20,1)\n",
    "# print(arr)\n",
    "\n",
    "# ndarray의 각요소를 축력하려면 어떻게 해야하나요?\n",
    "# for tmp in arr:\n",
    "#     print(tmp)\n",
    "\n",
    "for (idx, tmp) in enumerate(arr):\n",
    "    print('인덱스 : {}, 데이터 : {}'.format(idx, tmp))\n",
    "'''\n",
    "인덱스 : 0, 데이터 : 10\n",
    "인덱스 : 1, 데이터 : 11\n",
    "인덱스 : 2, 데이터 : 12\n",
    "인덱스 : 3, 데이터 : 13\n",
    "인덱스 : 4, 데이터 : 14\n",
    "인덱스 : 5, 데이터 : 15\n",
    "인덱스 : 6, 데이터 : 16\n",
    "인덱스 : 7, 데이터 : 17\n",
    "인덱스 : 8, 데이터 : 18\n",
    "인덱스 : 9, 데이터 : 19\n",
    "'''\n",
    "\n",
    "arr = np.arange(10,20,1)\n",
    "print(arr[3]) # 13\n",
    "print(arr[1:4]) # slicing은 원본의 형태를 그대로 가져옴\n",
    "print(arr[:-1]) #[10 11 12 13 14 15 16 17 18]\n",
    "print(arr[1:-1:2]) #[11 13 15 17] ,없이 표현\n",
    "arr = np.arange(1,17,1).reshape(4,4).copy()\n",
    "print(arr)\n",
    "'''\n",
    "[[ 1  2  3  4]\n",
    " [ 5  6  7  8]\n",
    " [ 9 10 11 12]\n",
    " [13 14 15 16]]\n",
    "'''\n",
    "print(arr[1,2]) # 7\n",
    "print(arr[1][2]) # 7\n",
    "\n",
    "print(arr[2,:]) #[ 9 10 11 12]\n",
    "print(arr[1:3,:])\n",
    "'''\n",
    "[[ 5  6  7  8]\n",
    " [ 9 10 11 12]]\n",
    "'''\n",
    "print(arr[1:3,:2])\n",
    "'''\n",
    "[[ 5  6]\n",
    " [ 9 10]]\n",
    "'''"
   ]
  },
  {
   "cell_type": "code",
   "execution_count": 97,
   "metadata": {
    "scrolled": true
   },
   "outputs": [
    {
     "name": "stdout",
     "output_type": "stream",
     "text": [
      "[5 8 9 5 0]\n",
      "[1 0 1 1 0]\n",
      "[False  True False False  True]\n",
      "[8 0]\n",
      "[[ 0  1  2  3]\n",
      " [ 4  5  6  7]\n",
      " [ 8  9 10 11]]\n",
      "10\n",
      "[6]\n",
      "[[5]]\n",
      "[ 2 10]\n",
      "[[ 2]\n",
      " [10]]\n",
      "[ 1 11]\n",
      "[[ 1  3]\n",
      " [ 9 11]]\n",
      "[[ 1  3]\n",
      " [ 9 11]]\n"
     ]
    }
   ],
   "source": [
    "# Boolean indexing과 Fancy indexing!!\n",
    "\n",
    "# Boolean Indexing\n",
    "# boolean indexing은 ndarray의 각 요소의 선택여부\n",
    "# True, False로 구성된 Boolean mask를 이용하여 지정하는 방식\n",
    "# boolean mask의 True에 해당하는 index 만을 조회하는 방식\n",
    "\n",
    "import numpy as np\n",
    "np.random.seed(1)\n",
    "arr = np.random.randint(0,10,(5,))\n",
    "print(arr) # [5 8 9 5 0]\n",
    "print(arr % 2) # [1 0 1 1 0]\n",
    "print(arr % 2 == 0) # [False  True False False  True] => boolean mask\n",
    "print(arr[arr % 2 == 0]) # [8 0] => boolean indexing\n",
    "\n",
    "# Fancy indexing\n",
    "# ndarray에 index배열을 전달하여 배열요소를 참조하는 방식\n",
    "arr = np.arange(0,12,1).reshape(3,4).copy()\n",
    "print(arr)\n",
    "print(arr[2,2]) # indexing : 10\n",
    "print(arr[1:2, 2]) # slicing : [6]\n",
    "print(arr[1:2, 1:2]) # slicing : [[5]] => 차원 주의 !!\n",
    "print(arr[[0,2],2]) # [ 2 10]\n",
    "print(arr[[0,2],2:3]) \n",
    "'''\n",
    "[[ 2]\n",
    " [10]]\n",
    "'''\n",
    "# 그렇다면 우리 다음의 2차원 ndarray를 추출해 보아요!!\n",
    "'''\n",
    "[[1 3]\n",
    " [9 11]]\n",
    "''' \n",
    "print(arr[[0,2],[1,3]]) #[ 1 11] 행과 열에 동시에 fancy indexing을 할수가 없어요 !\n",
    "\n",
    "# 해결방법 1\n",
    "print(arr[[0,2]][:,[1,3]])\n",
    "'''\n",
    "[[1 3]\n",
    " [9 11]]\n",
    "'''\n",
    "\n",
    "# 해결방법 2 - numpy 가 함수를 하나 제공해줘요!\n",
    "print(arr[np.ix_([0,2],[1,3])])\n",
    "'''\n",
    "[[1 3]\n",
    " [9 11]]\n",
    "'''"
   ]
  },
  {
   "cell_type": "code",
   "execution_count": 3,
   "metadata": {},
   "outputs": [
    {
     "name": "stdout",
     "output_type": "stream",
     "text": [
      "[[ 7 16 27]\n",
      " [40 55 72]]\n",
      "[[ 58  64]\n",
      " [139 154]]\n"
     ]
    }
   ],
   "source": [
    "# # ndarray의 사칙연산과 행렬곱!!\n",
    "# # +, -, *, /\n",
    "# # 행렬곱!! => dot product\n",
    "import numpy as np\n",
    "arr1 = np.array([[1,2,3],[4,5,6]])\n",
    "arr2 = np.array([[7,8,9],[10,11,12]])\n",
    "# python에서 list 할때.. + 얀산자는 concatenation!!\n",
    "# ndarray에서 연산자는 vector, matrix연산..\n",
    "# ndarray의 사칙연산의 기본 전제는.. shape이 같아야 연산이 성립\n",
    "print(arr1 + arr2)\n",
    "'''\n",
    "[[ 8 10 12]\n",
    " [14 16 18]]\n",
    "'''\n",
    "arr2 = 3 \n",
    "\n",
    "print(arr1 + arr2) # 수행이 되요 !! => ndarray가 broadcating 을 수행\n",
    "# shape 이 맞지않는 경우 ndarray 가 broadcating을 수행\n",
    "# arr2 = [[3 3 3] \n",
    "#         [3 3 3]]\n",
    "\n",
    "arr2 = np.array([1,2,3])\n",
    "\n",
    "print(arr1 + arr2)\n",
    "\n",
    "'''\n",
    "[[2 4 6]\n",
    " [5 7 9]]\n",
    "'''\n",
    "\n",
    "arr2 = np.array([1,2]) # shape을 맞출수가 없음 => 1,2,1,2 이런식으로 복제가 실행되기 떄문에 \n",
    "\n",
    "print(arr1 + arr2)\n",
    "'''\n",
    "---------------------------------------------------------------------------\n",
    "ValueError                                Traceback (most recent call last)\n",
    "<ipython-input-106-47522039af72> in <module>\n",
    "     31 arr2 = np.array([1,2])\n",
    "     32 \n",
    "---> 33 print(arr1 + arr2)\n",
    "\n",
    "ValueError: operands could not be broadcast together with shapes (2,3) (2,) \n",
    "'''\n",
    "arr1 = np.array([[1,2,3],[4,5,6]])\n",
    "arr2 = np.array([[7,8,9],[10,11,12]])\n",
    "\n",
    "## 행렬곱 연산!!\n",
    "\n",
    "print(arr1 * arr2) # 단순 곱셈만 실행\n",
    "'''\n",
    "[[ 7 16 27]\n",
    " [40 55 72]]\n",
    "'''\n",
    "\n",
    "# 두 행렬간의 행렬곱은 np.dot(), np.matmul()로 수행이 가능해요!!\n",
    "# np.dot(A, B)에서 A행렬의 열 vector와 B행렬의 행 Vector의 size가 같아야 해요!\n",
    "# 만약 크기가 다르면 reshape() 이나 resize()나\n",
    "# 이런것들을 이용해서 크기를 맞추고 연산을 수행해야 해요!!\n",
    "\n",
    "arr1 = np.array([[1,2,3],[4,5,6]])\n",
    "arr2 = np.array([[7,8],[9,10],[11,12]])\n",
    "print(np.dot(arr1, arr2))\n",
    "\n",
    "# 왜 이런 행렬곱 연산을 알아야 하나요??\n",
    "# 만약에 행렬곱이 없으면 Matrix 연산은 같은 크기로만 연산을 수행해야 해요!!\n",
    "# 하지만 행렬곱 연산을 이용하면\n",
    "# 행렬곱 조건만 만족시키면 다양한 크기의 행렬을 우리가 연속적으로\n",
    "# 이용해서 특정 작업을 수행할 수 있어요 !!\n",
    "# 머신러닝, 이미지처리쪽에서 사용되요!!\n",
    "\n",
    "# 예) 입력 : 32 X 32 matrix (이미지파일)\n",
    "#    출력 : 32 X 10 matrix (다양한 처리가 적용된 이미지)\n",
    "#    행렬곱 : (32 X 32) dot(32 X 128) dot (128 X 64) dot (64 X 10 ) = (32 X 10)"
   ]
  },
  {
   "cell_type": "code",
   "execution_count": 10,
   "metadata": {},
   "outputs": [
    {
     "name": "stdout",
     "output_type": "stream",
     "text": [
      "[[1 2 3]\n",
      " [4 5 6]]\n",
      "[[1 4]\n",
      " [2 5]\n",
      " [3 6]]\n",
      "[[100   2   3]\n",
      " [  4   5   6]]\n",
      "[[100   4]\n",
      " [  2   5]\n",
      " [  3   6]]\n",
      "[[1]\n",
      " [2]\n",
      " [3]\n",
      " [4]]\n"
     ]
    }
   ],
   "source": [
    "#Transpose\n",
    "# 일반적으로 전치행렬이라고 불리는 transpose에 대해서 알아보아요!\n",
    "# 전치행렬은 원본행렬의 행은 열로 열은 행으로 바꾼 행렬을 의미한다.\n",
    "# 전치행렬은 표현은 윗첨자로 T를 이용합니다.\n",
    "\n",
    "import numpy as np\n",
    "arr = np.array([[1,2,3],[4,5,6]]) # 2 X 3 ndarray\n",
    "print(arr)\n",
    "t_arr = arr.T\n",
    "print(t_arr)\n",
    "arr[0,0] = 100\n",
    "print(arr)\n",
    "print(t_arr)\n",
    "\n",
    "\n",
    "arr = np.array([1,2,3,4]) # vector (1차원 ndarray)\n",
    "t_array = arr.T.reshape(4,1)\n",
    "print(t_array)"
   ]
  },
  {
   "cell_type": "code",
   "execution_count": 41,
   "metadata": {},
   "outputs": [
    {
     "name": "stdout",
     "output_type": "stream",
     "text": [
      "[[1 2 3]\n",
      " [4 5 6]]\n",
      "1 2 3 4 5 6 1 2 3 4 5 6 "
     ]
    }
   ],
   "source": [
    "# # Numpy iterator\n",
    "\n",
    "# iterator 의 동작방식, 이거 왜 쓰는지를 알아야 해요!!\n",
    "import numpy as np\n",
    "\n",
    "arr = np.array([1,2,3,4,5])\n",
    "\n",
    "# for문을 이용하면 편해요!!\n",
    "for tmp in arr:\n",
    "    print(tmp, end=' ') # 1 2 3 4 5 \n",
    "\n",
    "# 일단은 불편하지만 이 작업을 iterator를 이용해서 구현해보겠습니다.\n",
    "# 각각의 칸을 지칭하는 것이 iterator\n",
    "\n",
    "arr = np.array([1,2,3,4,5])\n",
    "\n",
    "it = np.nditer(arr, flags=['c_index']) # flags 1차원인경우 'c_index' \n",
    "\n",
    "while not it.finished: # iterator 가 지정하는 위치가 끝이 아닐동안 반복\n",
    "    idx = it.index # iterator가 현재 가리키는 곳의 index숫자를 가져와요!\n",
    "    print(arr[idx], end=' ')\n",
    "    it.iternext() # iterator를 다음요소로 이동시키는 작업을 해요 !!\n",
    "    \n",
    "################\n",
    "\n",
    "# 2차원 ndarray에 대해서 각 요소를 순서대로 출력해보아요!!\n",
    "# 요소를 순서대로 출력 => 0행0열 > 0행1열 > 0행2열 > 1행0열 > 1행1열 > 1행2열\n",
    "arr = np.array([[1,2,3],[4,5,6]])\n",
    "\n",
    "print(arr)\n",
    "\n",
    "# 요소를 하나씩 뽑아서 순서대로 출력해보세요!!\n",
    "for i in arr:\n",
    "    for x in i:\n",
    "        print(x, end=' ')\n",
    "        \n",
    "for row in range(arr.shape(0)):\n",
    "    for col in range(arr.shape(1)):\n",
    "        print(arr[row,col], end=' ')\n",
    "        \n",
    "\n",
    "\n",
    "it = np.nditer(arr, flags=['multi_index']) # flags 1차원인경우 'c_index' \n",
    "while not it.finished:\n",
    "    idx = it.multi_index\n",
    "    print(arr[idx], end=' ')\n",
    "    it.iternext()\n",
    "        \n",
    "\n"
   ]
  },
  {
   "cell_type": "code",
   "execution_count": null,
   "metadata": {},
   "outputs": [],
   "source": [
    "# 이렇게 numpy에 대한 python 코드에 대한 내용을 세부적으로 알아보고 있어요\n",
    "\n",
    "# machine learning, deep learning 이론 설명을 하고 => python 으로 numpy를 이용해서 구현\n",
    "\n",
    "# 지양하는 학습방법 => API만 이용해서 machine learning, deep learning 하는 방법!!"
   ]
  },
  {
   "cell_type": "code",
   "execution_count": 58,
   "metadata": {},
   "outputs": [
    {
     "name": "stdout",
     "output_type": "stream",
     "text": [
      "[[5 0 3]\n",
      " [3 7 9]]\n",
      "[[3 5 2]\n",
      " [4 7 6]]\n",
      "[[False False False]\n",
      " [False  True False]]\n",
      "True\n"
     ]
    }
   ],
   "source": [
    "# ndarray의 비교연산\n",
    "\n",
    "# 사칙연산과 마찬가지로 비교연산도 같은 index끼리 수행됩니다.!!\n",
    "\n",
    "np.random.seed(0)\n",
    "arr1 = np.random. randint(0,10,(2,3))\n",
    "arr2 = np.random. randint(0,10,(2,3))\n",
    "\n",
    "print(arr1)\n",
    "print(arr2)\n",
    "\n",
    "print(arr1 == arr2) # boolena 형 마스크\n",
    "\n",
    "arr1 = np.arange(10)\n",
    "arr2 = np.arange(10)\n",
    "print(np.array_equal(arr1, arr2)) # True False 로 표현"
   ]
  },
  {
   "cell_type": "code",
   "execution_count": 109,
   "metadata": {},
   "outputs": [
    {
     "name": "stdout",
     "output_type": "stream",
     "text": [
      "[[1 2 3]\n",
      " [4 5 6]]\n",
      "21\n",
      "21\n",
      "[ 1  3  6 10 15 21]\n",
      "3.5\n",
      "6\n",
      "1\n",
      "5\n",
      "0\n",
      "1.707825127659933\n",
      "[[  2.71828183   7.3890561   20.08553692]\n",
      " [ 54.59815003 148.4131591  403.42879349]]\n",
      "[[0.         0.30103    0.47712125]\n",
      " [0.60205999 0.69897    0.77815125]]\n",
      "15\n",
      "[5 7 9]\n",
      "[ 6 15]\n",
      "[2 2]\n",
      "[[[5 8 9]\n",
      "  [5 0 0]]\n",
      "\n",
      " [[1 7 6]\n",
      "  [9 2 4]]]\n"
     ]
    }
   ],
   "source": [
    "# Numpy 집계함수 & axis(축)\n",
    "import numpy as np\n",
    "arr = np.arange(1,7,1).reshape(2,3).copy()\n",
    "print(arr)\n",
    "\n",
    "print(arr.sum())\n",
    "print(np.sum(arr))\n",
    "print (np.cumsum(arr)) #누적합 #피보나치\n",
    "print(np.mean(arr)) # 평균\n",
    "print(np.max(arr)) # 최대값\n",
    "print(np.min(arr)) # 최소값\n",
    "print(np.argmax(arr)) # 최대값을 찾고 최대값의 index를 반환 순번으로 나타냄\n",
    "print(np.argmin(arr)) # 최대값을 찾고 최소값의 index를 반환 순번으로 나타냄\n",
    "print(np.std(arr)) # 표준편차 1.707825127659933\n",
    "print(np.exp(arr)) # 자연상수 제곱\n",
    "print(np.log10(arr)) # 로그\n",
    "#이런 수많은 numpy의 집게함수와 수학함수가 우리에게 제공되요 !!\n",
    "#Numpy의 모든 집계함수는 axis를 기준으로 계산되요!!\n",
    "# np.sum()\n",
    "# 만약 axis를 지정하지 않으면.. axis는 None으로 설정되고..\n",
    "# 함수의 대상범위를 전체 ndarray로 지정하게 되요! \n",
    "\n",
    "# axis를 어떻게 설정하고 어떤 효과가 나타나나요??\n",
    "\n",
    "# 1차원 ndarray를 생성.\n",
    "arr = np.array([1,2,3,4,5])\n",
    "print(np.sum(arr)) # axis를 지정하지 않았기 떄문에 전체 ndarray를 대상으로 sum()수행\n",
    "# 1차원은 축이 1개, 2차원은 축이 2개, 3차원은 축이 3개존재\n",
    "# 1차원인 경우 axis = 0 열방향 !! 가로방향!!\n",
    "# print(arr.sum(axis=0))\n",
    "# print(arr.sum(axis=1)) # error\n",
    "\n",
    "# 2차원 ndarray를 생성.\n",
    "arr = np.array([[1,2,3],[4,5,6]])\n",
    "print(arr.sum(axis=0)) #2차원에서 axis=0 이면 행방향!! > 세로방향 [5 7 9]\n",
    "print(arr.sum(axis=1)) #2차원에서 axis=0 이면 열방향!! > 가로방향 [6 15]\n",
    "print(arr.argmax(axis=1)) #2차원에서 axis=0 이면 열방향!! > 가로방향 [6 15]\n",
    "\n",
    "\n",
    "np.random.seed(1)\n",
    "arr1 = np.random.randint(0,10,(2,2,3))\n",
    "print (arr1)\n",
    "print(arr1.sum(axis=0)) \n",
    "# 3차원에서 axis=0은 => depth방향\n",
    "# 3차원에서 axis=1은 => 행 / 세로방향\n",
    "# 3차원에서 axis=2은 => 열 / 가로방향\n"
   ]
  },
  {
   "cell_type": "code",
   "execution_count": 110,
   "metadata": {},
   "outputs": [
    {
     "name": "stdout",
     "output_type": "stream",
     "text": [
      "[0.0000e+00 1.0000e+00 2.0000e+00 ... 9.9997e+04 9.9998e+04 9.9999e+04]\n"
     ]
    }
   ],
   "source": [
    "## numpy 집계함수를 사용해야 하는 이유 !!\n",
    "\n",
    "## 집계함수를 사용하는 시간과 로직으로 연산을 수행하는 시간을 비교!!\n",
    "\n",
    "import numpy as np\n",
    "\n",
    "arr = np.arange(100000, dtype = np.float64)\n",
    "print(arr)\n",
    "\n",
    "# for 문을 이용해서 합을 구하거나\n",
    "\n",
    "# 집계함수를 이용해서 구할 수 있어요!!\n",
    "\n"
   ]
  },
  {
   "cell_type": "code",
   "execution_count": 138,
   "metadata": {},
   "outputs": [
    {
     "name": "stdout",
     "output_type": "stream",
     "text": [
      "4999950000.0\n",
      "CPU times: user 28.6 ms, sys: 1.27 ms, total: 29.9 ms\n",
      "Wall time: 29.1 ms\n"
     ]
    }
   ],
   "source": [
    "%%time\n",
    "\n",
    "# for 문을 이용해서 합을 구하거나\n",
    "arr = np.arange(100000, dtype = np.float64)\n",
    "result = 0\n",
    "for tmp in arr:\n",
    "    result += tmp\n",
    "print(result)\n",
    "\n",
    "# 4999950000.0\n",
    "# CPU times: user 28.6 ms, sys: 1.27 ms, total: 29.9 ms\n",
    "# Wall time: 29.1 ms"
   ]
  },
  {
   "cell_type": "code",
   "execution_count": 139,
   "metadata": {},
   "outputs": [
    {
     "name": "stdout",
     "output_type": "stream",
     "text": [
      "4999950000.0\n",
      "CPU times: user 485 µs, sys: 219 µs, total: 704 µs\n",
      "Wall time: 379 µs\n"
     ]
    }
   ],
   "source": [
    "%%time\n",
    "\n",
    "# 집계함수를 이용해서 구할 수 있어요!!\n",
    "arr = np.arange(100000, dtype = np.float64)\n",
    "print(arr.sum())\n",
    "\n",
    "# 4999950000.0\n",
    "# CPU times: user 485 µs, sys: 219 µs, total: 704 µs\n",
    "# Wall time: 379 µs"
   ]
  },
  {
   "cell_type": "code",
   "execution_count": 200,
   "metadata": {},
   "outputs": [
    {
     "name": "stdout",
     "output_type": "stream",
     "text": [
      "[[ 1  2  3  4]\n",
      " [ 5  6  7  8]\n",
      " [ 9 10 11 12]\n",
      " [13 14 15 16]]\n",
      "6\n",
      "6\n",
      "CPU times: user 476 µs, sys: 146 µs, total: 622 µs\n",
      "Wall time: 533 µs\n"
     ]
    }
   ],
   "source": [
    "%%time\n",
    "## 연습문제\n",
    "\n",
    "import numpy as np\n",
    "\n",
    "arr = np.arange(1, 17).reshape(4,4).copy()\n",
    "print(arr)\n",
    "\n",
    "# 해결해야 하는 문제는\n",
    "# ndarray안에 10보다 큰수가 몇개 있는지 알아보려면 어떻게 해야하나요 ??\n",
    "\n",
    "print(len(arr[arr > 10 ]))\n",
    "print((arr > 10).sum())"
   ]
  },
  {
   "cell_type": "code",
   "execution_count": 307,
   "metadata": {},
   "outputs": [
    {
     "name": "stdout",
     "output_type": "stream",
     "text": [
      "[0 1 2 3 4 5 6 7 8 9]\n"
     ]
    }
   ],
   "source": [
    "## ndarray를 정렬!\n",
    "\n",
    "# numpy array는 axis를 기준으로 정렬하는 sort()함수를 제공!\n",
    "\n",
    "# 만약 axis를 지정하지 않으면  -1값으로 지정 > 마지막 axis\n",
    "\n",
    "# np.sort() : 정렬된 결과 ndarray를 리턴\n",
    "# arr.sort() : 원본을 정렬 return값은 None\n",
    "import numpy as np\n",
    "arr = np.arange(10)\n",
    "arr2 = arr.sort()\n",
    "arr2 = np.sort(arr)\n",
    "print(arr2)\n",
    "# print(arr)\n",
    "# np.random.shuffle(arr)\n",
    "# print(arr)\n",
    "# print(np.sort(arr)) #오름 차순으로 정렬 (default 가 오름차순)\n",
    "# # ndarray는 특수한 indexing 을 제공 > 역순으로 정렬하기 위한 indexing 을 제공\n",
    "# print(np.sort(arr)[::-1])\n",
    "\n",
    "\n",
    "# arr = np.arange(1,17)\n",
    "# np.random.shuffle(arr)\n",
    "# arr = arr.reshape(4,4).copy()\n",
    "\n",
    "# print(arr)\n",
    "# '''\n",
    "# [[ 4 13  7  6]\n",
    "#  [10  2  5 11]\n",
    "#  [12  3  8  1]\n",
    "#  [14 16 15  9]]\n",
    "# '''\n",
    "# print(np.sort(arr, axis = 0))\n",
    "# '''\n",
    "# [[ 4  2  5  1]\n",
    "#  [10  3  7  6]\n",
    "#  [12 13  8  9]\n",
    "#  [14 16 15 11]]\n",
    "# '''\n",
    "# print(np.sort(arr, axis = 1))\n",
    "# '''\n",
    "# [[ 3  7 10 14]\n",
    "#  [ 4  5 12 13]\n",
    "#  [ 1  2  6 16]\n",
    "#  [ 8  9 11 15]]\n",
    "# '''"
   ]
  },
  {
   "cell_type": "code",
   "execution_count": 281,
   "metadata": {},
   "outputs": [
    {
     "name": "stdout",
     "output_type": "stream",
     "text": [
      "[55.61763634 55.00747724 54.40799073 54.33672687 54.29428017 53.73142893\n",
      " 53.48524549 53.36333602 53.33719598 53.31286372]\n"
     ]
    }
   ],
   "source": [
    "# 표준정규분포에서 200개의 샘플을 추출한 후 내림차순으로 상위 5%까지의 결과만 출력하세요!!\n",
    "# 개별적으로 작성을 해보세요\n",
    "\n",
    "# # 1. np.random.normal() : 정규분포 확률 밀도함수에서 실수 표본을 추출해서 ndarray 생성\n",
    "# #                         평균, 표준편차\n",
    "\n",
    "# mean = 50\n",
    "# std = 2\n",
    "# arr = np.random.normal(mean, std, (10000,)) # 10000개의 데이터 추출\n",
    "# print(arr)\n",
    "# plt.plot(arr)\n",
    "# print(plt.plot(arr))\n",
    "\n",
    "n = 200\n",
    "arr = np.random.normal(50, 2,(n))\n",
    "print(np.sort(arr)[::-1][0:n//20])"
   ]
  },
  {
   "cell_type": "code",
   "execution_count": 5,
   "metadata": {},
   "outputs": [
    {
     "name": "stdout",
     "output_type": "stream",
     "text": [
      "[[1 2 3]\n",
      " [4 5 6]\n",
      " [7 8 9]]\n"
     ]
    }
   ],
   "source": [
    "# python list의 할때 원소를 추가하는 함수가 있었어요!!\n",
    "# append()를 이용해서 원소를 추가했었어요!!\n",
    "# ndarray도 요소를 추가하는 기능이 있어요!! => append()라는 것도 있어요1!\n",
    "# 하지만 append()는 잘 사용하지 않아요.. 대표적인 함수가 concatenate()함수에요!\n",
    "\n",
    "#ndarray에 row(s) 혹은 column(s)을 추가하기 위한 함수\n",
    "#concatenate()\n",
    "\n",
    "import numpy as np\n",
    "\n",
    "arr = np.array([[1,2,3],[4,5,6]]) # 2X3 ndarray\n",
    "new_row = np.array([7,8,9])\n",
    "\n",
    "# arr에 new_row vector를 하단에 붙일거에요!!\n",
    "# 결과적으로 3 X 3 matrix를 생성할꺼에요!!\n",
    "# matrix끼리만 서로 붙습니다.\n",
    "# result = np.concatenate(어떤것을 서로 붙일지 , 행으로 붙일지 열로 붙일지..)\n",
    "result = np.concatenate((arr, new_row.reshape(1,3)) , axis = 0)\n",
    "print(result)\n",
    "'''\n",
    "[[1 2 3]\n",
    " [4 5 6]\n",
    " [7 8 9]]\n",
    "'''"
   ]
  },
  {
   "cell_type": "code",
   "execution_count": 2,
   "metadata": {},
   "outputs": [
    {
     "name": "stdout",
     "output_type": "stream",
     "text": [
      "[[5 8 9 5]\n",
      " [0 0 1 7]\n",
      " [6 9 2 4]]\n",
      "[5 9 5 0 0 1 7 6 9 2 4]\n",
      "[[5 8 9 5]\n",
      " [6 9 2 4]]\n"
     ]
    },
    {
     "data": {
      "text/plain": [
       "'\\n[[5 8 9 5]\\n [6 9 2 4]]\\n'"
      ]
     },
     "execution_count": 2,
     "metadata": {},
     "output_type": "execute_result"
    }
   ],
   "source": [
    "# 위의 내용은하나의 ndarray와 다른 ndarray를 연결시키기 위해서 사용!\n",
    "\n",
    "# delete() 함수 \n",
    "\n",
    "# axis를 기준으로 행과 열을 삭제할 수 있어요 !!\n",
    "# 만약 axis를 지정하지 않으면 1차원 배열로 변환 후 삭제\n",
    "# 원본은 변경하지 않고 처리가 된 새로운 배열을 return\n",
    "\n",
    "import numpy as np\n",
    "np.random.seed(1)\n",
    "\n",
    "arr = np.random.randint(0, 10, (3,4))\n",
    "print(arr)\n",
    "'''\n",
    "[[5 8 9 5]\n",
    " [0 0 1 7]\n",
    " [6 9 2 4]]\n",
    "'''\n",
    "\n",
    "result = np.delete(arr, 1)\n",
    "# axis가 설정되지 않았기 때문에 1차배열고 자동 변경된후 인덱스를 삭제\n",
    "print(result) #[5 9 5 0 0 1 7 6 9 2 4]\n",
    "\n",
    "result = np.delete(arr, 1, axis = 0) \n",
    "print(result)\n",
    "'''\n",
    "[[5 8 9 5]\n",
    " [6 9 2 4]]\n",
    "'''"
   ]
  }
 ],
 "metadata": {
  "kernelspec": {
   "display_name": "Python [conda env:data_env] *",
   "language": "python",
   "name": "conda-env-data_env-py"
  },
  "language_info": {
   "codemirror_mode": {
    "name": "ipython",
    "version": 3
   },
   "file_extension": ".py",
   "mimetype": "text/x-python",
   "name": "python",
   "nbconvert_exporter": "python",
   "pygments_lexer": "ipython3",
   "version": "3.7.7"
  }
 },
 "nbformat": 4,
 "nbformat_minor": 4
}
