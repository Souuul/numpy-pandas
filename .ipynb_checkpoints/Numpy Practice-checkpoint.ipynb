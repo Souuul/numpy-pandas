{
 "cells": [
  {
   "cell_type": "code",
   "execution_count": 1,
   "metadata": {},
   "outputs": [
    {
     "name": "stdout",
     "output_type": "stream",
     "text": [
      "39.6\n",
      "['2018-08-01']\n"
     ]
    }
   ],
   "source": [
    "# 1. 기상 관측 이래, 서울의 최고 기온이 가장 높았던 날은 언제였고, 몇도인가요?\n",
    "# 2. 역사적으로 일교차가 가장 큰 날짜는 몇년 몇월 몇일 인가요?\n",
    "# 3. 1년 중 평균적으로 일교차가 가장 큰 날짜는 몇월 몇일 인가요?\n",
    "# 4. 가장 덥다고 알려진 대구보다 서울이 더 더운날이 가장 많은 연도는 언제인가요?\n",
    "\n",
    "import numpy as np\n",
    "\n",
    "# arr = np.loadtxt('./data/seoul.csv', delimiter = ',', skiprows = 1, dtype=np.object, encoding='utf-8')\n",
    "arr_seoul = np.loadtxt(\"./data/seoul.csv\", dtype=np.object, delimiter=',', skiprows = 1, encoding='CP949')\n",
    "arr_daegu = np.loadtxt(\"./data/seoul.csv\", dtype=np.object, delimiter=',', skiprows = 1, encoding='CP949')\n",
    "high_temp_arr = arr_seoul.T[4]\n",
    "high_temp = (high_temp_arr[high_temp_arr!='']).astype(np.float64).max()\n",
    "print(high_temp)\n",
    "print(arr_seoul.T[0][high_temp_arr == str(high_temp)])\n",
    "\n",
    "\n"
   ]
  },
  {
   "cell_type": "code",
   "execution_count": 73,
   "metadata": {},
   "outputs": [
    {
     "name": "stdout",
     "output_type": "stream",
     "text": [
      "['7.9' '7.9' '13.1' ... '19.2' '19.5' '17.5']\n",
      "21.8\n",
      "['1942-04-19']\n"
     ]
    }
   ],
   "source": [
    "# 2. 역사적으로 일교차가 가장 큰 날짜는 몇년 몇월 몇일 인가요?\n",
    "\n",
    "\n",
    "import numpy as np\n",
    "\n",
    "# arr = np.loadtxt('./data/seoul.csv', delimiter = ',', skiprows = 1, dtype=np.object, encoding='utf-8')\n",
    "arr_seoul = np.loadtxt(\"./data/seoul.csv\", dtype=np.object, delimiter=',', skiprows = 1, encoding='CP949')\n",
    "arr_daegu = np.loadtxt(\"./data/seoul.csv\", dtype=np.object, delimiter=',', skiprows = 1, encoding='CP949')\n",
    "morning_temp_arr = arr_seoul.T[3]\n",
    "night_temp_arr = arr_seoul.T[4]\n",
    "morning_temp = (morning_temp_arr[night_temp_arr!='']).astype(np.float64)\n",
    "night_temp = (night_temp_arr[night_temp_arr!='']).astype(np.float64)\n",
    "sub_tmp_arr = night_temp - morning_temp\n",
    "sub_tmp = np.max(sub_tmp_arr)\n",
    "arr_index = np.where(sub_tmp_arr == sub_tmp)\n",
    "print(sub_tmp)\n",
    "print(arr_seoul.T[0][arr_index])"
   ]
  },
  {
   "cell_type": "code",
   "execution_count": 72,
   "metadata": {},
   "outputs": [
    {
     "name": "stdout",
     "output_type": "stream",
     "text": [
      "['1907' '1907' '1907' ... '2020' '2020' '2020']\n"
     ]
    },
    {
     "ename": "TypeError",
     "evalue": "unsupported operand type(s) for -: 'str' and 'str'",
     "output_type": "error",
     "traceback": [
      "\u001b[0;31m---------------------------------------------------------------------------\u001b[0m",
      "\u001b[0;31mTypeError\u001b[0m                                 Traceback (most recent call last)",
      "\u001b[0;32m<ipython-input-72-4f5eb769fb79>\u001b[0m in \u001b[0;36m<module>\u001b[0;34m\u001b[0m\n\u001b[1;32m      8\u001b[0m \u001b[0mprint\u001b[0m\u001b[0;34m(\u001b[0m\u001b[0mdate_arr\u001b[0m\u001b[0;34m)\u001b[0m\u001b[0;34m\u001b[0m\u001b[0;34m\u001b[0m\u001b[0m\n\u001b[1;32m      9\u001b[0m \u001b[0;34m\u001b[0m\u001b[0m\n\u001b[0;32m---> 10\u001b[0;31m \u001b[0mprint\u001b[0m\u001b[0;34m(\u001b[0m\u001b[0mnp\u001b[0m\u001b[0;34m.\u001b[0m\u001b[0marray\u001b[0m\u001b[0;34m(\u001b[0m\u001b[0marr_seoul\u001b[0m\u001b[0;34m)\u001b[0m\u001b[0;34m.\u001b[0m\u001b[0mT\u001b[0m\u001b[0;34m[\u001b[0m\u001b[0mnp\u001b[0m\u001b[0;34m.\u001b[0m\u001b[0marray\u001b[0m\u001b[0;34m(\u001b[0m\u001b[0marr_seoul\u001b[0m\u001b[0;34m)\u001b[0m\u001b[0;34m.\u001b[0m\u001b[0mT\u001b[0m\u001b[0;34m[\u001b[0m\u001b[0;36m4\u001b[0m\u001b[0;34m]\u001b[0m \u001b[0;34m-\u001b[0m \u001b[0mnp\u001b[0m\u001b[0;34m.\u001b[0m\u001b[0marray\u001b[0m\u001b[0;34m(\u001b[0m\u001b[0marr_seoul\u001b[0m\u001b[0;34m)\u001b[0m\u001b[0;34m.\u001b[0m\u001b[0mT\u001b[0m\u001b[0;34m[\u001b[0m\u001b[0;36m3\u001b[0m\u001b[0;34m]\u001b[0m\u001b[0;34m]\u001b[0m\u001b[0;34m)\u001b[0m\u001b[0;34m\u001b[0m\u001b[0;34m\u001b[0m\u001b[0m\n\u001b[0m\u001b[1;32m     11\u001b[0m \u001b[0;34m\u001b[0m\u001b[0m\n",
      "\u001b[0;31mTypeError\u001b[0m: unsupported operand type(s) for -: 'str' and 'str'"
     ]
    }
   ],
   "source": [
    "# 3. 1년 중 평균적으로 일교차가 가장 큰 날짜는 몇월 몇일 인가요?\n",
    "import numpy as np\n",
    "from datetime import datetime\n",
    "\n",
    "arr_seoul = np.loadtxt(\"./data/seoul.csv\", dtype=np.object, delimiter=',', skiprows = 1, encoding='CP949')\n",
    "\n",
    "date_arr = np.array(arr_seoul.T[0], dtype = 'datetime64[Y]')\n",
    "print(date_arr)\n",
    "\n",
    "# print(np.array(arr_seoul).T[np.array(arr_seoul).T[4] - np.array(arr_seoul).T[3]])\n",
    "\n"
   ]
  },
  {
   "cell_type": "code",
   "execution_count": 102,
   "metadata": {},
   "outputs": [
    {
     "name": "stdout",
     "output_type": "stream",
     "text": [
      "[20.7 22.  21.3 ... 27.3 24.4 20.6]\n",
      "[ 0.8  4.8  7.6 ... 28.6 28.9 23.7]\n",
      "['1907-10-01' '1907-10-02' '1907-10-03' ... '2020-09-05' '2020-09-06'\n",
      " '2020-09-07']\n",
      "['1907.1.31' '1907.2.1' '1907.2.2' ... '2020.9.14' '2020.9.15' '2020.9.16']\n",
      "[]\n"
     ]
    },
    {
     "name": "stderr",
     "output_type": "stream",
     "text": [
      "/Users/admin/opt/anaconda3/envs/data_env/lib/python3.7/site-packages/ipykernel_launcher.py:16: DeprecationWarning: elementwise comparison failed; this will raise an error in the future.\n",
      "  app.launch_new_instance()\n"
     ]
    }
   ],
   "source": [
    "# 4. 가장 덥다고 알려진 대구보다 서울이 더 더운날이 가장 많은 연도는 언제인가요?\n",
    "arr_seoul = np.loadtxt(\"./data/seoul.csv\", dtype=np.object, delimiter=',', skiprows = 1, encoding='CP949')\n",
    "arr_daegu = np.loadtxt(\"./data/daegu.csv\", dtype=np.object, delimiter=',', skiprows = 1, encoding='CP949')\n",
    "\n",
    "# arr_sub = arr_seoul.T[4] - arr_daegu.T[4]\n",
    "\n",
    "night_temp_seoul = (arr_seoul.T[4][arr_seoul.T[4]!='']).astype(np.float64)\n",
    "print (night_temp_seoul)\n",
    "\n",
    "night_temp_daegu = (arr_daegu.T[4][arr_daegu.T[4]!='']).astype(np.float64)\n",
    "print (night_temp_daegu)\n",
    "\n",
    "# print(night_temp_seoul[arr_seoul.T[0] == arr_daegu.T[0]][night_temp_seoul - night_temp_daegu >0])\n",
    "print(arr_seoul.T[0])\n",
    "print(arr_daegu.T[0])\n",
    "print(night_temp_seoul[arr_seoul.T[0] == arr_daegu.T[0]])"
   ]
  }
 ],
 "metadata": {
  "kernelspec": {
   "display_name": "Python [conda env:data_env] *",
   "language": "python",
   "name": "conda-env-data_env-py"
  },
  "language_info": {
   "codemirror_mode": {
    "name": "ipython",
    "version": 3
   },
   "file_extension": ".py",
   "mimetype": "text/x-python",
   "name": "python",
   "nbconvert_exporter": "python",
   "pygments_lexer": "ipython3",
   "version": "3.7.7"
  }
 },
 "nbformat": 4,
 "nbformat_minor": 4
}
